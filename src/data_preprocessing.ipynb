{
  "cells": [
    {
      "cell_type": "markdown",
      "metadata": {
        "id": "MCjjn3kpj8ik"
      },
      "source": [
        "**Data Pre-Processing**\n",
        "<br>\n",
        "<br>\n",
        "\n",
        "This code is generating masked images by overlaying random masks from ***mask_dir*** onto images in ***data_dir***, and saving the resulting images in ***masked_dir***.\n",
        "\n",
        "First, the code reads in a list of filenames from ***mask_dir*** and then splits this list into smaller lists of 1000 filenames using list comprehension.\n",
        "\n",
        "Then, the code loops through each folder in ***data_dir***. For each folder, the code creates a corresponding subfolder in ***masked_dir*** to hold the masked images. It then loops through each image in the current folder and chooses a random mask image from one of the sublists in ***mask_dir_lists***.\n",
        "\n",
        "The code then reads in the input image and resizes it to 256x256 pixels, and reads in the mask image and resizes it to 256x256 pixels as well. It then combines the input image and mask to create the masked image by using the **cv2.add()** function.\n",
        "\n",
        "The code saves the masked image to ***masked_dir*** with a filename that includes the original image's filename, with **\"_masked\"** added before the file extension. It then appends the input, mask, and result images to ***masked_images list***.\n",
        "\n"
      ]
    },
    {
      "cell_type": "code",
      "execution_count": null,
      "metadata": {
        "id": "DEXffqFIkBy_"
      },
      "outputs": [],
      "source": [
        "import os\n",
        "import cv2\n",
        "import random\n",
        "import shutil\n",
        "import numpy as np\n",
        "import pickle\n",
        "import splitfolders"
      ]
    },
    {
      "cell_type": "code",
      "execution_count": null,
      "metadata": {
        "id": "cuDinHI7kD7D"
      },
      "outputs": [],
      "source": [
        "mask_dir = '/mnt/c/Users/chris/2023-mcm-master/src/data/testing_mask_dataset/'\n",
        "mask_dir_list=os.listdir(mask_dir)\n",
        "\n",
        "mask_dir_list1 = mask_dir_list[0:1000]\n",
        "mask_dir_list2 = mask_dir_list[1000:2000]\n",
        "mask_dir_list3 = mask_dir_list[2000:3000]\n",
        "mask_dir_list4 = mask_dir_list[3000:4000]\n",
        "mask_dir_list5 = mask_dir_list[4000:5000]\n",
        "mask_dir_list6 = mask_dir_list[5000:6000]\n",
        "mask_dir_list7 = mask_dir_list[6000:7000]\n",
        "mask_dir_list8 = mask_dir_list[7000:8000]\n",
        "mask_dir_list9 = mask_dir_list[8000:9000]\n",
        "mask_dir_list10 = mask_dir_list[9000:10000]\n",
        "mask_dir_list11 = mask_dir_list[10000:11000]\n",
        "mask_dir_list12 = mask_dir_list[11000:12000]\n",
        "mask_dir_list = [mask_dir_list1,mask_dir_list2,mask_dir_list3,mask_dir_list4,\n",
        "               mask_dir_list5,mask_dir_list6,mask_dir_list7,mask_dir_list8,\n",
        "               mask_dir_list9,mask_dir_list10,mask_dir_list11,mask_dir_list12]\n",
        "\n",
        "\n",
        "masked_dir='/mnt/c/Users/chris/2023-mcm-master/src/data/masked_images/'\n",
        "masked_dir_list=os.listdir(masked_dir)\n",
        "\n",
        "data_dir='/mnt/c/Users/chris/2023-mcm-master/src/data/dataset/'\n",
        "print(masked_dir_list)\n",
        "n=0\n",
        "for dir in os.listdir(data_dir):\n",
        "  print(dir)\n",
        "  os.mkdir(masked_dir + dir + '/')\n",
        "  for i in os.listdir(data_dir + dir):\n",
        "    filename = random.choice(mask_dir_list[n])\n",
        "    image2 = cv2.imread(data_dir + dir + '/' + i)\n",
        "    image2 = cv2.resize(image2, (256,256))\n",
        "    mask = cv2.imread(mask_dir + filename)\n",
        "    mask = cv2.resize(mask, (256,256))\n",
        "    result = cv2.add(image2, mask)\n",
        "    cv2.imwrite(masked_dir + dir + '/' + i, result)\n",
        "    n = n + 1\n",
        "    if(n == 12):\n",
        "        n = 0"
      ]
    },
    {
      "cell_type": "markdown",
      "metadata": {
        "id": "uPmMsUAMkKSR"
      },
      "source": [
        "This code is used to split a dataset of images into three subsets - training, validation, and testing sets - in a 80:10:10 ratio.\n",
        "\n",
        "The code first creates three directories - **train_dir**, **val_dir**, and **test_dir** - if they don't already exist. It then loops through the subfolders of data_dir, which contains the original dataset of images.\n",
        "\n",
        "For each subfolder, the code creates corresponding subfolders in **train_dir**, **val_dir**, and **test_dir** to hold the images. It then randomly shuffles the images in the current subfolder and splits them into three sets - train_images, val_images, and test_images - in a 70:20:10 ratio.\n",
        "\n",
        "Finally, the code copies the images from the original dataset into the appropriate subfolders of **train_dir**, **val_dir**, and **test_dir** based on which set they belong to. This ensures that each set has the appropriate number of images for training, validation, and testing."
      ]
    },
    {
      "cell_type": "code",
      "execution_count": null,
      "metadata": {
        "id": "m7ZWrJHIkLcZ"
      },
      "outputs": [],
      "source": [
        "splitfolders.ratio('/mnt/c/Users/chris/2023-mcm-master/src/data/dataset/', output=\"/mnt/c/Users/chris/2023-mcm-master/src/data/practicum_dataset_split/\", seed=1337, ratio=(.8, 0.1,0.1))\n",
        "splitfolders.ratio('/mnt/c/Users/chris/2023-mcm-master/src/data/masked_images/', output=\"/mnt/c/Users/chris/2023-mcm-master/src/data/masked_images_split/\", seed=1337, ratio=(.8, 0.1,0.1))"
      ]
    }
  ],
  "metadata": {
    "colab": {
      "provenance": []
    },
    "kernelspec": {
      "display_name": "Python 3",
      "name": "python3"
    },
    "language_info": {
      "name": "python"
    }
  },
  "nbformat": 4,
  "nbformat_minor": 0
}
