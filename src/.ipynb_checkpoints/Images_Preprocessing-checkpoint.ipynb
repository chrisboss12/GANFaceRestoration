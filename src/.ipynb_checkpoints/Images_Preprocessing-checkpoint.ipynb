{
 "cells": [
  {
   "cell_type": "markdown",
   "id": "83fe866d",
   "metadata": {},
   "source": [
    "### Splitting the images from both datasets for training in a 70:30 ratio"
   ]
  },
  {
   "cell_type": "code",
   "execution_count": 2,
   "id": "5a177fee",
   "metadata": {},
   "outputs": [],
   "source": [
    "import os\n",
    "import random\n",
    "import tensorflow as tf\n",
    "from keras.preprocessing.image import ImageDataGenerator\n",
    "\n",
    "# Set the paths for the masked images\n",
    "mask_folder = \"C:/Users/chris/2023-mcm-master/src/data/masked_images\"\n",
    "\n",
    "# Set the paths for the training and testing folders\n",
    "train_folder = \"C:/Users/chris/2023-mcm-master/src/data/train/\"\n",
    "test_folder = \"C:/Users/chris/2023-mcm-master/src/data/test/\"\n",
    "\n",
    "# Set the ratios for the training and testing sets\n",
    "train_ratio = 0.7\n",
    "test_ratio = 0.3\n",
    "\n",
    "# Get the list of masked image filenames\n",
    "masked_images = os.listdir(mask_folder)\n",
    "\n",
    "# Shuffle the list of masked image filenames\n",
    "random.shuffle(masked_images)\n",
    "\n",
    "# Calculate the number of images for training and testing based on the ratios\n",
    "num_train = int(train_ratio * len(masked_images))\n",
    "num_test = len(masked_images) - num_train\n",
    "\n",
    "# Split the masked image filenames into training and testing sets\n",
    "train_images = masked_images[:num_train]\n",
    "test_images = masked_images[num_train:]\n",
    "\n",
    "# Create the train and test folders if they don't exist\n",
    "if not os.path.exists(train_folder):\n",
    "    os.makedirs(train_folder)\n",
    "if not os.path.exists(test_folder):\n",
    "    os.makedirs(test_folder)\n",
    "\n",
    "# Move the images to the train folder\n",
    "for image in train_images:\n",
    "    src = os.path.join(mask_folder, image)\n",
    "    dst = os.path.join(train_folder, image)\n",
    "    os.rename(src, dst)\n",
    "\n",
    "# Move the images to the test folder\n",
    "for image in test_images:\n",
    "    src = os.path.join(mask_folder, image)\n",
    "    dst = os.path.join(test_folder, image)\n",
    "    os.rename(src, dst)\n"
   ]
  },
  {
   "cell_type": "code",
   "execution_count": null,
   "id": "15055f4f",
   "metadata": {},
   "outputs": [],
   "source": []
  }
 ],
 "metadata": {
  "kernelspec": {
   "display_name": "Python 3 (ipykernel)",
   "language": "python",
   "name": "python3"
  },
  "language_info": {
   "codemirror_mode": {
    "name": "ipython",
    "version": 3
   },
   "file_extension": ".py",
   "mimetype": "text/x-python",
   "name": "python",
   "nbconvert_exporter": "python",
   "pygments_lexer": "ipython3",
   "version": "3.9.13"
  }
 },
 "nbformat": 4,
 "nbformat_minor": 5
}
